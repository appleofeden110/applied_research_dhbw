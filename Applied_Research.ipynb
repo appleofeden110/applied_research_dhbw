{
  "nbformat": 4,
  "nbformat_minor": 0,
  "metadata": {
    "colab": {
      "provenance": []
    },
    "kernelspec": {
      "name": "python3",
      "display_name": "Python 3"
    },
    "language_info": {
      "name": "python"
    }
  },
  "cells": [
    {
      "cell_type": "code",
      "execution_count": null,
      "metadata": {
        "id": "zAPObgfq8I1u"
      },
      "outputs": [],
      "source": [
        "import pandas as pd\n",
        "import numpy as np\n",
        "import matplotlib as mt"
      ]
    },
    {
      "cell_type": "code",
      "source": [
        "print(\"bitch you live like this?\")"
      ],
      "metadata": {
        "colab": {
          "base_uri": "https://localhost:8080/"
        },
        "id": "t8Yd2rDW9cHU",
        "outputId": "d4931bf4-98ec-40ed-d70c-0c471d9c65ac"
      },
      "execution_count": null,
      "outputs": [
        {
          "output_type": "stream",
          "name": "stdout",
          "text": [
            "bitch you live like this?\n"
          ]
        }
      ]
    },
    {
      "cell_type": "code",
      "source": [],
      "metadata": {
        "id": "njkW8NR09nP2"
      },
      "execution_count": null,
      "outputs": []
    }
  ]
}